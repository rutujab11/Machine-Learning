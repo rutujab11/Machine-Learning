{
 "cells": [
  {
   "cell_type": "code",
   "execution_count": null,
   "metadata": {
    "colab_type": "text",
    "id": "w3a1-9Iw2K-N"
   },
   "outputs": [],
   "source": [
    "# Rutuja Bhandigani\n",
    "#PB55 PANEL 2\n",
    "# PRN: 1032170889\n"
   ]
  },
  {
   "cell_type": "code",
   "execution_count": 12,
   "metadata": {
    "colab": {},
    "colab_type": "code",
    "id": "jQtRvD1yS-H_"
   },
   "outputs": [],
   "source": [
    "#Importing Required Libraries\n",
    "import numpy as np\n",
    "import pandas as pd\n",
    "import sklearn\n",
    "from sklearn.neighbors import KNeighborsClassifier\n",
    "#Reading the dataset\n",
    "dataset = pd.read_csv(\"knn.csv\")\n",
    "x = dataset.iloc[:,:-1].values #features\n",
    "y = dataset.iloc[:,2].values #target"
   ]
  },
  {
   "cell_type": "code",
   "execution_count": 13,
   "metadata": {
    "colab": {
     "base_uri": "https://localhost:8080/",
     "height": 68
    },
    "colab_type": "code",
    "id": "2SyJ6jdEUoCe",
    "outputId": "72540839-2b1a-4e06-f345-c4061bb8f9bc"
   },
   "outputs": [
    {
     "name": "stdout",
     "output_type": "stream",
     "text": [
      "['N' 'N' 'N' 'P' 'P' 'N']\n"
     ]
    },
    {
     "data": {
      "text/plain": [
       "array([[2, 2],\n",
       "       [2, 0]], dtype=int64)"
      ]
     },
     "execution_count": 13,
     "metadata": {},
     "output_type": "execute_result"
    }
   ],
   "source": [
    "#Using KNN\n",
    "classifier = KNeighborsClassifier(n_neighbors=3)\n",
    "classifier.fit(x,y) #training\n",
    "x_test = np.array([4,2])\n",
    "y_predict=classifier.predict(x) #testing\n",
    "print(y_predict)\n",
    "#Confusion Matrix\n",
    "from sklearn.metrics import confusion_matrix\n",
    "confusion_matrix(y,y_predict)"
   ]
  },
  {
   "cell_type": "code",
   "execution_count": 14,
   "metadata": {
    "colab": {},
    "colab_type": "code",
    "id": "sphe-JnQWsnf"
   },
   "outputs": [],
   "source": [
    "#Assigining features and label variables\n",
    "#First Feature\n",
    "weather=['Sunny','Sunny','Overcast','Rainy','Rainy','Rainy','Overcast','Sunny','Sunny',\n",
    "'Rainy','Sunny','Overcast','Overcast','Rainy']\n",
    "\n",
    "# Second Feature\n",
    "temp=['Hot','Hot','Hot','Mild','Cool','Cool','Cool','Mild','Cool','Mild','Mild','Mild','Hot','Mild']\n",
    "\n",
    "# Label or target varible\n",
    "play=['No','No','Yes','Yes','Yes','No','Yes','No','Yes','Yes','Yes','Yes','Yes','No']"
   ]
  },
  {
   "cell_type": "code",
   "execution_count": 15,
   "metadata": {
    "colab": {
     "base_uri": "https://localhost:8080/",
     "height": 34
    },
    "colab_type": "code",
    "id": "ciK3SbYXWwJJ",
    "outputId": "c04c266c-c12d-4845-b544-dde800695be9"
   },
   "outputs": [
    {
     "name": "stdout",
     "output_type": "stream",
     "text": [
      "[2 2 0 1 1 1 0 2 2 1 2 0 0 1]\n"
     ]
    }
   ],
   "source": [
    "#Import LabelEncoder\n",
    "from sklearn import preprocessing\n",
    "#Creating LabelEncoder\n",
    "le = preprocessing.LabelEncoder()\n",
    "#Converting weather strings labels imto numbers \n",
    "weather_encoded = le.fit_transform(weather)\n",
    "print(weather_encoded)\n",
    "#Converting temp string labels into numbers\n",
    "temp_encoded = le.fit_transform(temp)\n",
    "#Converting play string labels into numbers\n",
    "label = le.fit_transform(play)"
   ]
  },
  {
   "cell_type": "code",
   "execution_count": 16,
   "metadata": {
    "colab": {},
    "colab_type": "code",
    "id": "LqusBMKvXP_H"
   },
   "outputs": [],
   "source": [
    "#Combining weather and temp into single list of tuples\n",
    "features = list(zip(weather_encoded,temp_encoded))"
   ]
  },
  {
   "cell_type": "code",
   "execution_count": 17,
   "metadata": {
    "colab": {
     "base_uri": "https://localhost:8080/",
     "height": 34
    },
    "colab_type": "code",
    "id": "RHnbffdFXXrm",
    "outputId": "48165c96-ff83-45b9-d52c-403160008f39"
   },
   "outputs": [
    {
     "name": "stdout",
     "output_type": "stream",
     "text": [
      "[1]\n"
     ]
    }
   ],
   "source": [
    "#Using KNN\n",
    "from sklearn.neighbors import KNeighborsClassifier\n",
    "model = KNeighborsClassifier(n_neighbors=3)\n",
    "#Train the model using training sets\n",
    "model.fit(features,label)\n",
    "#Predict output\n",
    "predicted = model.predict([[0,2]]) #0: Overcast 2:Mild\n",
    "print(predicted)"
   ]
  },
  {
   "cell_type": "code",
   "execution_count": 18,
   "metadata": {
    "colab": {
     "base_uri": "https://localhost:8080/",
     "height": 204
    },
    "colab_type": "code",
    "id": "0K1BX2RlXyj6",
    "outputId": "2ba64a26-5b85-4295-f539-af9285ea7ef5"
   },
   "outputs": [
    {
     "name": "stdout",
     "output_type": "stream",
     "text": [
      "[[ 5.   45.  ]\n",
      " [ 5.11 26.  ]\n",
      " [ 5.6  30.  ]\n",
      " [ 5.9  34.  ]\n",
      " [ 4.8  40.  ]\n",
      " [ 5.8  36.  ]\n",
      " [ 5.3  19.  ]\n",
      " [ 5.8  28.  ]\n",
      " [ 5.5  23.  ]\n",
      " [ 5.6  32.  ]]\n",
      "[77 47 55 59 72 60 40 60 45 58]\n"
     ]
    }
   ],
   "source": [
    "#For Regression\n",
    "from sklearn.neighbors import KNeighborsRegressor\n",
    "#Reading the dataset\n",
    "dataset=pd.read_csv(\"knn1.csv\")\n",
    "x=dataset.iloc[:,:-1].values #features\n",
    "print(x)\n",
    "y=dataset.iloc[:,2].values #target\n",
    "print(y)"
   ]
  },
  {
   "cell_type": "code",
   "execution_count": 19,
   "metadata": {
    "colab": {
     "base_uri": "https://localhost:8080/",
     "height": 34
    },
    "colab_type": "code",
    "id": "ZGEtvX7FZh0X",
    "outputId": "9fac593d-c05a-46dc-ad7e-11ef014c8922"
   },
   "outputs": [
    {
     "name": "stdout",
     "output_type": "stream",
     "text": [
      "[53.]\n"
     ]
    }
   ],
   "source": [
    "#Using KNN\n",
    "classifier = KNeighborsRegressor(n_neighbors=5)\n",
    "classifier.fit(x,y) #training\n",
    "x_test = np.array([5.50,26])\n",
    "y_predict = classifier.predict([x_test])  #testing\n",
    "print(y_predict)"
   ]
  },
  {
   "cell_type": "code",
   "execution_count": 21,
   "metadata": {
    "colab": {},
    "colab_type": "code",
    "id": "bV2DJTHMZ4t9"
   },
   "outputs": [
    {
     "data": {
      "text/plain": [
       "0.1"
      ]
     },
     "execution_count": 21,
     "metadata": {},
     "output_type": "execute_result"
    }
   ],
   "source": [
    "#Accuracy Score\n",
    "from sklearn.metrics import accuracy_score\n",
    "y_predict = classifier.predict(x)\n",
    "accuracy_score(y, np.round(y_predict), normalize=True)"
   ]
  },
  {
   "cell_type": "code",
   "execution_count": null,
   "metadata": {
    "colab": {},
    "colab_type": "code",
    "id": "FbHPLboZd1qa"
   },
   "outputs": [],
   "source": []
  }
 ],
 "metadata": {
  "colab": {
   "name": "PB_33_IMLA_4_KNN",
   "provenance": []
  },
  "kernelspec": {
   "display_name": "Python 3",
   "language": "python",
   "name": "python3"
  },
  "language_info": {
   "codemirror_mode": {
    "name": "ipython",
    "version": 3
   },
   "file_extension": ".py",
   "mimetype": "text/x-python",
   "name": "python",
   "nbconvert_exporter": "python",
   "pygments_lexer": "ipython3",
   "version": "3.7.3"
  }
 },
 "nbformat": 4,
 "nbformat_minor": 1
}
